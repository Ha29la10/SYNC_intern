{
  "cells": [
    {
      "cell_type": "code",
      "execution_count": 4,
      "metadata": {
        "id": "aJD37m1H6TLV"
      },
      "outputs": [],
      "source": [
        "\n",
        "import random\n",
        "import json\n",
        "import pickle\n",
        "import numpy as np\n",
        "import nltk\n",
        "from nltk.stem import WordNetLemmatizer  #stem word\n",
        "\n",
        "from tensorflow.keras.models import Sequential\n",
        "from tensorflow.keras.layers import Dense,Activation,Dropout\n",
        "from tensorflow.keras.optimizers import SGD"
      ]
    },
    {
      "cell_type": "code",
      "execution_count": 5,
      "metadata": {
        "id": "RN0JAEH77WGO"
      },
      "outputs": [],
      "source": [
        "lemmatizer=WordNetLemmatizer()\n",
        "with open('/content/sample_data/intents.json','r') as file:\n",
        "  intents=json.load(file)\n"
      ]
    },
    {
      "cell_type": "code",
      "execution_count": 6,
      "metadata": {
        "colab": {
          "base_uri": "https://localhost:8080/"
        },
        "id": "9fJkeqJR7tzf",
        "outputId": "bee93a9f-6acc-41d6-d35f-7307892a0545"
      },
      "outputs": [
        {
          "output_type": "stream",
          "name": "stderr",
          "text": [
            "[nltk_data] Downloading package punkt to /root/nltk_data...\n",
            "[nltk_data]   Unzipping tokenizers/punkt.zip.\n",
            "[nltk_data] Downloading package wordnet to /root/nltk_data...\n",
            "[nltk_data] Downloading package omw-1.4 to /root/nltk_data...\n"
          ]
        }
      ],
      "source": [
        "nltk.download('punkt')\n",
        "nltk.download('wordnet')\n",
        "nltk.download('omw-1.4')\n",
        "\n",
        "words=[]\n",
        "classes=[]\n",
        "documents=[]\n",
        "ignore_letters=['?','!',',','.',';']\n",
        "for intent in intents['intents']:\n",
        "   for pattern in intent['patterns']:\n",
        "     word_list=nltk.word_tokenize(pattern)\n",
        "     words.extend(word_list)\n",
        "     documents.append((word_list,intent['tag']))\n",
        "     if intent['tag'] not in classes:\n",
        "      classes.append(intent['tag'])"
      ]
    },
    {
      "cell_type": "code",
      "execution_count": 7,
      "metadata": {
        "colab": {
          "base_uri": "https://localhost:8080/"
        },
        "id": "eL8zm9a1AFls",
        "outputId": "74d89d45-fdcf-4283-84af-d0a61f98a665"
      },
      "outputs": [
        {
          "output_type": "stream",
          "name": "stdout",
          "text": [
            "[(['hello'], 'greetings'), (['hi'], 'greetings'), (['good', 'day'], 'greetings'), (['greetings'], 'greetings'), (['what', \"'s\", 'up', '?'], 'greetings'), (['how', 'is', 'it', 'going'], 'greetings'), (['cya'], 'goodbye'), (['see', 'you', 'later'], 'goodbye'), (['goodbye'], 'goodbye'), (['Iam', 'leaving'], 'goodbye'), (['have', 'a', 'good', 'day'], 'goodbye'), (['cao'], 'goodbye'), (['see', 'ya'], 'goodbye'), (['how', 'old', 'are', 'you'], 'age'), (['how', 'old', 'is', 'Hala', '?'], 'age'), (['what', 'is', 'your', 'age'], 'age'), (['age', '?'], 'age'), (['how', 'old'], 'age'), (['what', 'is', 'your', 'name', '?'], 'name'), (['what', 'should', 'i', 'call', 'you', '?'], 'name'), (['whats', 'your', 'name', '?'], 'name'), (['who', 'are', 'you', '?'], 'name'), (['can', 'you', 'tell', 'me', 'your', 'name', '?'], 'name'), (['when', 'are', 'you', 'guys', 'open'], 'hours'), (['what', 'are', 'your', 'hours', '?'], 'hours'), (['hours', 'of', 'operation'], 'hours'), (['who', 'are', 'you', '?'], 'hours'), (['who', 'made', 'you', '?'], 'creator'), (['what', 'are', 'you', '?'], 'creator'), (['who', 'is', 'your', 'creator', '?'], 'creator'), (['tell', 'me', 'more', 'about', 'your', 'creator'], 'creator'), (['can', 'you', 'eat', '?'], 'actions'), (['what', 'can', 'you', 'eat', '?'], 'actions'), (['eat', 'something', '!'], 'actions'), (['can', 'you', 'sleep', '?'], 'actions'), (['can', 'you', 'drink', '?'], 'actions')]\n"
          ]
        }
      ],
      "source": [
        "print(documents)"
      ]
    },
    {
      "cell_type": "code",
      "execution_count": 8,
      "metadata": {
        "id": "3BxnXW0kDfvn"
      },
      "outputs": [],
      "source": [
        "words=[lemmatizer.lemmatize(word) for word in words if word not in ignore_letters]\n",
        "words=sorted(set(words))"
      ]
    },
    {
      "cell_type": "code",
      "execution_count": 9,
      "metadata": {
        "colab": {
          "base_uri": "https://localhost:8080/"
        },
        "id": "lFCJc06gECDk",
        "outputId": "b913d56f-c9cb-4e86-9c92-8d7e1f49aefd"
      },
      "outputs": [
        {
          "output_type": "stream",
          "name": "stdout",
          "text": [
            "[\"'s\", 'Hala', 'Iam', 'a', 'about', 'age', 'are', 'call', 'can', 'cao', 'creator', 'cya', 'day', 'drink', 'eat', 'going', 'good', 'goodbye', 'greeting', 'guy', 'have', 'hello', 'hi', 'hour', 'how', 'i', 'is', 'it', 'later', 'leaving', 'made', 'me', 'more', 'name', 'of', 'old', 'open', 'operation', 'see', 'should', 'sleep', 'something', 'tell', 'up', 'what', 'whats', 'when', 'who', 'ya', 'you', 'your']\n"
          ]
        }
      ],
      "source": [
        "print(words)"
      ]
    },
    {
      "cell_type": "code",
      "execution_count": 10,
      "metadata": {
        "id": "5joZJ1lYEGrB"
      },
      "outputs": [],
      "source": [
        "classes=sorted(set(classes))\n"
      ]
    },
    {
      "cell_type": "code",
      "execution_count": 11,
      "metadata": {
        "id": "biSrWA3kEQTt"
      },
      "outputs": [],
      "source": [
        "pickle.dump(words,open(\"words.pkl\",'wb'))\n",
        "pickle.dump(classes,open(\"classes.pkl\",'wb'))\n"
      ]
    },
    {
      "cell_type": "code",
      "execution_count": 12,
      "metadata": {
        "id": "Fj4jFdSrEk30"
      },
      "outputs": [],
      "source": [
        "training=[]\n",
        "output_empty=[0]*len(classes)\n",
        "for document in documents:\n",
        "  bag=[]\n",
        "  word_pattern=document[0]\n",
        "  word_pattern=[lemmatizer.lemmatize(word.lower()) for word in word_pattern]\n",
        "  for word in words:\n",
        "    bag.append(1) if word in word_pattern else bag.append(0)\n",
        "  output_row=list(output_empty)\n",
        "  output_row[classes.index(document[1])]=1\n",
        "  training.append([bag,output_row])"
      ]
    },
    {
      "cell_type": "code",
      "execution_count": 13,
      "metadata": {
        "colab": {
          "base_uri": "https://localhost:8080/"
        },
        "id": "wolLYMOAFtfS",
        "outputId": "1e850283-6c21-4d1e-df09-b086105c7cac"
      },
      "outputs": [
        {
          "output_type": "stream",
          "name": "stderr",
          "text": [
            "<ipython-input-13-1f8711b14fb5>:2: VisibleDeprecationWarning: Creating an ndarray from ragged nested sequences (which is a list-or-tuple of lists-or-tuples-or ndarrays with different lengths or shapes) is deprecated. If you meant to do this, you must specify 'dtype=object' when creating the ndarray.\n",
            "  training=np.array(training)\n"
          ]
        }
      ],
      "source": [
        "\n",
        "\n",
        "\n",
        "\n",
        "random.shuffle(training)\n",
        "training=np.array(training)\n",
        "train_x=list(training[:,0])\n",
        "train_y=list(training[:,1])\n"
      ]
    },
    {
      "cell_type": "code",
      "execution_count": 14,
      "metadata": {
        "colab": {
          "base_uri": "https://localhost:8080/"
        },
        "id": "ox7GB8WHNgn_",
        "outputId": "1438addb-e7f7-4ddf-8670-b48c56fdad74"
      },
      "outputs": [
        {
          "output_type": "stream",
          "name": "stderr",
          "text": [
            "/usr/local/lib/python3.10/dist-packages/keras/src/optimizers/legacy/gradient_descent.py:114: UserWarning: The `lr` argument is deprecated, use `learning_rate` instead.\n",
            "  super().__init__(name, **kwargs)\n"
          ]
        }
      ],
      "source": [
        "from tensorflow.keras.optimizers.legacy import SGD\n",
        "model=Sequential()\n",
        "model.add(Dense(128,input_shape=(len(train_x[0]),),activation='relu'))\n",
        "model.add(Dropout(0.5))\n",
        "model.add(Dense(64,activation='relu'))\n",
        "model.add(Dropout(0.5))\n",
        "model.add(Dense(len(train_y[0]),activation='softmax'))\n",
        "sgd=SGD(lr=0.01,decay=1e-6,momentum=0.9,nesterov=True)\n",
        "model.compile(loss='categorical_crossentropy',optimizer=sgd)\n"
      ]
    },
    {
      "cell_type": "code",
      "execution_count": 15,
      "metadata": {
        "colab": {
          "base_uri": "https://localhost:8080/"
        },
        "id": "EBN1EPWoPA2c",
        "outputId": "0adcca3a-e320-4bfd-8f12-f53fe0721a41"
      },
      "outputs": [
        {
          "output_type": "stream",
          "name": "stdout",
          "text": [
            "Epoch 1/200\n",
            "8/8 [==============================] - 1s 3ms/step - loss: 1.9607\n",
            "Epoch 2/200\n",
            "8/8 [==============================] - 0s 2ms/step - loss: 1.9590\n",
            "Epoch 3/200\n",
            "8/8 [==============================] - 0s 2ms/step - loss: 1.9576\n",
            "Epoch 4/200\n",
            "8/8 [==============================] - 0s 2ms/step - loss: 1.8077\n",
            "Epoch 5/200\n",
            "8/8 [==============================] - 0s 2ms/step - loss: 1.7768\n",
            "Epoch 6/200\n",
            "8/8 [==============================] - 0s 2ms/step - loss: 1.6529\n",
            "Epoch 7/200\n",
            "8/8 [==============================] - 0s 2ms/step - loss: 1.6524\n",
            "Epoch 8/200\n",
            "8/8 [==============================] - 0s 2ms/step - loss: 1.5013\n",
            "Epoch 9/200\n",
            "8/8 [==============================] - 0s 2ms/step - loss: 1.5018\n",
            "Epoch 10/200\n",
            "8/8 [==============================] - 0s 2ms/step - loss: 1.3164\n",
            "Epoch 11/200\n",
            "8/8 [==============================] - 0s 3ms/step - loss: 1.4115\n",
            "Epoch 12/200\n",
            "8/8 [==============================] - 0s 2ms/step - loss: 1.2325\n",
            "Epoch 13/200\n",
            "8/8 [==============================] - 0s 2ms/step - loss: 1.1665\n",
            "Epoch 14/200\n",
            "8/8 [==============================] - 0s 2ms/step - loss: 1.1510\n",
            "Epoch 15/200\n",
            "8/8 [==============================] - 0s 3ms/step - loss: 0.9180\n",
            "Epoch 16/200\n",
            "8/8 [==============================] - 0s 3ms/step - loss: 1.0563\n",
            "Epoch 17/200\n",
            "8/8 [==============================] - 0s 2ms/step - loss: 0.7960\n",
            "Epoch 18/200\n",
            "8/8 [==============================] - 0s 3ms/step - loss: 0.7781\n",
            "Epoch 19/200\n",
            "8/8 [==============================] - 0s 3ms/step - loss: 0.7561\n",
            "Epoch 20/200\n",
            "8/8 [==============================] - 0s 2ms/step - loss: 0.8937\n",
            "Epoch 21/200\n",
            "8/8 [==============================] - 0s 2ms/step - loss: 0.6578\n",
            "Epoch 22/200\n",
            "8/8 [==============================] - 0s 2ms/step - loss: 0.6962\n",
            "Epoch 23/200\n",
            "8/8 [==============================] - 0s 2ms/step - loss: 0.7722\n",
            "Epoch 24/200\n",
            "8/8 [==============================] - 0s 4ms/step - loss: 0.5243\n",
            "Epoch 25/200\n",
            "8/8 [==============================] - 0s 3ms/step - loss: 0.5053\n",
            "Epoch 26/200\n",
            "8/8 [==============================] - 0s 2ms/step - loss: 0.5953\n",
            "Epoch 27/200\n",
            "8/8 [==============================] - 0s 2ms/step - loss: 0.5434\n",
            "Epoch 28/200\n",
            "8/8 [==============================] - 0s 2ms/step - loss: 0.4101\n",
            "Epoch 29/200\n",
            "8/8 [==============================] - 0s 2ms/step - loss: 0.7049\n",
            "Epoch 30/200\n",
            "8/8 [==============================] - 0s 2ms/step - loss: 0.6026\n",
            "Epoch 31/200\n",
            "8/8 [==============================] - 0s 2ms/step - loss: 0.4784\n",
            "Epoch 32/200\n",
            "8/8 [==============================] - 0s 3ms/step - loss: 0.5080\n",
            "Epoch 33/200\n",
            "8/8 [==============================] - 0s 3ms/step - loss: 0.5418\n",
            "Epoch 34/200\n",
            "8/8 [==============================] - 0s 3ms/step - loss: 0.4375\n",
            "Epoch 35/200\n",
            "8/8 [==============================] - 0s 4ms/step - loss: 0.3681\n",
            "Epoch 36/200\n",
            "8/8 [==============================] - 0s 3ms/step - loss: 0.4077\n",
            "Epoch 37/200\n",
            "8/8 [==============================] - 0s 4ms/step - loss: 0.4346\n",
            "Epoch 38/200\n",
            "8/8 [==============================] - 0s 3ms/step - loss: 0.4031\n",
            "Epoch 39/200\n",
            "8/8 [==============================] - 0s 3ms/step - loss: 0.3497\n",
            "Epoch 40/200\n",
            "8/8 [==============================] - 0s 3ms/step - loss: 0.3871\n",
            "Epoch 41/200\n",
            "8/8 [==============================] - 0s 3ms/step - loss: 0.3626\n",
            "Epoch 42/200\n",
            "8/8 [==============================] - 0s 3ms/step - loss: 0.2742\n",
            "Epoch 43/200\n",
            "8/8 [==============================] - 0s 3ms/step - loss: 0.5604\n",
            "Epoch 44/200\n",
            "8/8 [==============================] - 0s 5ms/step - loss: 0.3596\n",
            "Epoch 45/200\n",
            "8/8 [==============================] - 0s 4ms/step - loss: 0.2804\n",
            "Epoch 46/200\n",
            "8/8 [==============================] - 0s 5ms/step - loss: 0.3093\n",
            "Epoch 47/200\n",
            "8/8 [==============================] - 0s 5ms/step - loss: 0.2136\n",
            "Epoch 48/200\n",
            "8/8 [==============================] - 0s 3ms/step - loss: 0.2273\n",
            "Epoch 49/200\n",
            "8/8 [==============================] - 0s 3ms/step - loss: 0.2228\n",
            "Epoch 50/200\n",
            "8/8 [==============================] - 0s 3ms/step - loss: 0.2404\n",
            "Epoch 51/200\n",
            "8/8 [==============================] - 0s 3ms/step - loss: 0.2686\n",
            "Epoch 52/200\n",
            "8/8 [==============================] - 0s 3ms/step - loss: 0.2356\n",
            "Epoch 53/200\n",
            "8/8 [==============================] - 0s 3ms/step - loss: 0.2241\n",
            "Epoch 54/200\n",
            "8/8 [==============================] - 0s 4ms/step - loss: 0.1828\n",
            "Epoch 55/200\n",
            "8/8 [==============================] - 0s 3ms/step - loss: 0.1033\n",
            "Epoch 56/200\n",
            "8/8 [==============================] - 0s 3ms/step - loss: 0.3599\n",
            "Epoch 57/200\n",
            "8/8 [==============================] - 0s 3ms/step - loss: 0.2053\n",
            "Epoch 58/200\n",
            "8/8 [==============================] - 0s 3ms/step - loss: 0.1975\n",
            "Epoch 59/200\n",
            "8/8 [==============================] - 0s 3ms/step - loss: 0.1674\n",
            "Epoch 60/200\n",
            "8/8 [==============================] - 0s 3ms/step - loss: 0.2206\n",
            "Epoch 61/200\n",
            "8/8 [==============================] - 0s 2ms/step - loss: 0.2107\n",
            "Epoch 62/200\n",
            "8/8 [==============================] - 0s 3ms/step - loss: 0.1965\n",
            "Epoch 63/200\n",
            "8/8 [==============================] - 0s 3ms/step - loss: 0.1879\n",
            "Epoch 64/200\n",
            "8/8 [==============================] - 0s 3ms/step - loss: 0.1164\n",
            "Epoch 65/200\n",
            "8/8 [==============================] - 0s 3ms/step - loss: 0.1721\n",
            "Epoch 66/200\n",
            "8/8 [==============================] - 0s 3ms/step - loss: 0.2752\n",
            "Epoch 67/200\n",
            "8/8 [==============================] - 0s 3ms/step - loss: 0.0925\n",
            "Epoch 68/200\n",
            "8/8 [==============================] - 0s 3ms/step - loss: 0.2536\n",
            "Epoch 69/200\n",
            "8/8 [==============================] - 0s 3ms/step - loss: 0.2047\n",
            "Epoch 70/200\n",
            "8/8 [==============================] - 0s 3ms/step - loss: 0.1353\n",
            "Epoch 71/200\n",
            "8/8 [==============================] - 0s 4ms/step - loss: 0.3725\n",
            "Epoch 72/200\n",
            "8/8 [==============================] - 0s 4ms/step - loss: 0.1579\n",
            "Epoch 73/200\n",
            "8/8 [==============================] - 0s 3ms/step - loss: 0.1756\n",
            "Epoch 74/200\n",
            "8/8 [==============================] - 0s 3ms/step - loss: 0.1633\n",
            "Epoch 75/200\n",
            "8/8 [==============================] - 0s 3ms/step - loss: 0.1334\n",
            "Epoch 76/200\n",
            "8/8 [==============================] - 0s 3ms/step - loss: 0.2942\n",
            "Epoch 77/200\n",
            "8/8 [==============================] - 0s 4ms/step - loss: 0.1710\n",
            "Epoch 78/200\n",
            "8/8 [==============================] - 0s 4ms/step - loss: 0.2104\n",
            "Epoch 79/200\n",
            "8/8 [==============================] - 0s 3ms/step - loss: 0.0689\n",
            "Epoch 80/200\n",
            "8/8 [==============================] - 0s 4ms/step - loss: 0.1854\n",
            "Epoch 81/200\n",
            "8/8 [==============================] - 0s 3ms/step - loss: 0.1866\n",
            "Epoch 82/200\n",
            "8/8 [==============================] - 0s 3ms/step - loss: 0.1175\n",
            "Epoch 83/200\n",
            "8/8 [==============================] - 0s 3ms/step - loss: 0.1780\n",
            "Epoch 84/200\n",
            "8/8 [==============================] - 0s 3ms/step - loss: 0.2023\n",
            "Epoch 85/200\n",
            "8/8 [==============================] - 0s 5ms/step - loss: 0.1481\n",
            "Epoch 86/200\n",
            "8/8 [==============================] - 0s 5ms/step - loss: 0.1776\n",
            "Epoch 87/200\n",
            "8/8 [==============================] - 0s 5ms/step - loss: 0.1423\n",
            "Epoch 88/200\n",
            "8/8 [==============================] - 0s 4ms/step - loss: 0.1793\n",
            "Epoch 89/200\n",
            "8/8 [==============================] - 0s 4ms/step - loss: 0.2646\n",
            "Epoch 90/200\n",
            "8/8 [==============================] - 0s 3ms/step - loss: 0.2426\n",
            "Epoch 91/200\n",
            "8/8 [==============================] - 0s 4ms/step - loss: 0.1431\n",
            "Epoch 92/200\n",
            "8/8 [==============================] - 0s 4ms/step - loss: 0.1280\n",
            "Epoch 93/200\n",
            "8/8 [==============================] - 0s 3ms/step - loss: 0.1431\n",
            "Epoch 94/200\n",
            "8/8 [==============================] - 0s 3ms/step - loss: 0.1219\n",
            "Epoch 95/200\n",
            "8/8 [==============================] - 0s 3ms/step - loss: 0.1504\n",
            "Epoch 96/200\n",
            "8/8 [==============================] - 0s 5ms/step - loss: 0.1428\n",
            "Epoch 97/200\n",
            "8/8 [==============================] - 0s 3ms/step - loss: 0.1079\n",
            "Epoch 98/200\n",
            "8/8 [==============================] - 0s 3ms/step - loss: 0.1355\n",
            "Epoch 99/200\n",
            "8/8 [==============================] - 0s 2ms/step - loss: 0.2123\n",
            "Epoch 100/200\n",
            "8/8 [==============================] - 0s 3ms/step - loss: 0.2039\n",
            "Epoch 101/200\n",
            "8/8 [==============================] - 0s 3ms/step - loss: 0.1548\n",
            "Epoch 102/200\n",
            "8/8 [==============================] - 0s 3ms/step - loss: 0.3147\n",
            "Epoch 103/200\n",
            "8/8 [==============================] - 0s 4ms/step - loss: 0.0987\n",
            "Epoch 104/200\n",
            "8/8 [==============================] - 0s 4ms/step - loss: 0.1473\n",
            "Epoch 105/200\n",
            "8/8 [==============================] - 0s 3ms/step - loss: 0.1397\n",
            "Epoch 106/200\n",
            "8/8 [==============================] - 0s 3ms/step - loss: 0.1174\n",
            "Epoch 107/200\n",
            "8/8 [==============================] - 0s 3ms/step - loss: 0.1869\n",
            "Epoch 108/200\n",
            "8/8 [==============================] - 0s 3ms/step - loss: 0.1645\n",
            "Epoch 109/200\n",
            "8/8 [==============================] - 0s 3ms/step - loss: 0.1713\n",
            "Epoch 110/200\n",
            "8/8 [==============================] - 0s 4ms/step - loss: 0.0964\n",
            "Epoch 111/200\n",
            "8/8 [==============================] - 0s 3ms/step - loss: 0.1621\n",
            "Epoch 112/200\n",
            "8/8 [==============================] - 0s 4ms/step - loss: 0.0856\n",
            "Epoch 113/200\n",
            "8/8 [==============================] - 0s 5ms/step - loss: 0.1367\n",
            "Epoch 114/200\n",
            "8/8 [==============================] - 0s 4ms/step - loss: 0.0594\n",
            "Epoch 115/200\n",
            "8/8 [==============================] - 0s 3ms/step - loss: 0.2251\n",
            "Epoch 116/200\n",
            "8/8 [==============================] - 0s 3ms/step - loss: 0.0604\n",
            "Epoch 117/200\n",
            "8/8 [==============================] - 0s 6ms/step - loss: 0.1486\n",
            "Epoch 118/200\n",
            "8/8 [==============================] - 0s 4ms/step - loss: 0.1220\n",
            "Epoch 119/200\n",
            "8/8 [==============================] - 0s 3ms/step - loss: 0.1058\n",
            "Epoch 120/200\n",
            "8/8 [==============================] - 0s 3ms/step - loss: 0.1526\n",
            "Epoch 121/200\n",
            "8/8 [==============================] - 0s 5ms/step - loss: 0.0743\n",
            "Epoch 122/200\n",
            "8/8 [==============================] - 0s 4ms/step - loss: 0.1021\n",
            "Epoch 123/200\n",
            "8/8 [==============================] - 0s 3ms/step - loss: 0.0816\n",
            "Epoch 124/200\n",
            "8/8 [==============================] - 0s 3ms/step - loss: 0.1066\n",
            "Epoch 125/200\n",
            "8/8 [==============================] - 0s 3ms/step - loss: 0.0358\n",
            "Epoch 126/200\n",
            "8/8 [==============================] - 0s 4ms/step - loss: 0.1277\n",
            "Epoch 127/200\n",
            "8/8 [==============================] - 0s 3ms/step - loss: 0.1214\n",
            "Epoch 128/200\n",
            "8/8 [==============================] - 0s 3ms/step - loss: 0.1218\n",
            "Epoch 129/200\n",
            "8/8 [==============================] - 0s 3ms/step - loss: 0.0842\n",
            "Epoch 130/200\n",
            "8/8 [==============================] - 0s 3ms/step - loss: 0.0971\n",
            "Epoch 131/200\n",
            "8/8 [==============================] - 0s 3ms/step - loss: 0.1053\n",
            "Epoch 132/200\n",
            "8/8 [==============================] - 0s 3ms/step - loss: 0.1357\n",
            "Epoch 133/200\n",
            "8/8 [==============================] - 0s 3ms/step - loss: 0.1621\n",
            "Epoch 134/200\n",
            "8/8 [==============================] - 0s 4ms/step - loss: 0.0750\n",
            "Epoch 135/200\n",
            "8/8 [==============================] - 0s 4ms/step - loss: 0.1863\n",
            "Epoch 136/200\n",
            "8/8 [==============================] - 0s 3ms/step - loss: 0.0786\n",
            "Epoch 137/200\n",
            "8/8 [==============================] - 0s 3ms/step - loss: 0.1335\n",
            "Epoch 138/200\n",
            "8/8 [==============================] - 0s 3ms/step - loss: 0.1305\n",
            "Epoch 139/200\n",
            "8/8 [==============================] - 0s 3ms/step - loss: 0.0549\n",
            "Epoch 140/200\n",
            "8/8 [==============================] - 0s 3ms/step - loss: 0.1344\n",
            "Epoch 141/200\n",
            "8/8 [==============================] - 0s 3ms/step - loss: 0.1226\n",
            "Epoch 142/200\n",
            "8/8 [==============================] - 0s 3ms/step - loss: 0.1165\n",
            "Epoch 143/200\n",
            "8/8 [==============================] - 0s 3ms/step - loss: 0.1601\n",
            "Epoch 144/200\n",
            "8/8 [==============================] - 0s 3ms/step - loss: 0.0952\n",
            "Epoch 145/200\n",
            "8/8 [==============================] - 0s 3ms/step - loss: 0.0513\n",
            "Epoch 146/200\n",
            "8/8 [==============================] - 0s 3ms/step - loss: 0.1471\n",
            "Epoch 147/200\n",
            "8/8 [==============================] - 0s 3ms/step - loss: 0.1640\n",
            "Epoch 148/200\n",
            "8/8 [==============================] - 0s 3ms/step - loss: 0.1110\n",
            "Epoch 149/200\n",
            "8/8 [==============================] - 0s 3ms/step - loss: 0.1109\n",
            "Epoch 150/200\n",
            "8/8 [==============================] - 0s 3ms/step - loss: 0.0703\n",
            "Epoch 151/200\n",
            "8/8 [==============================] - 0s 2ms/step - loss: 0.0983\n",
            "Epoch 152/200\n",
            "8/8 [==============================] - 0s 4ms/step - loss: 0.0380\n",
            "Epoch 153/200\n",
            "8/8 [==============================] - 0s 5ms/step - loss: 0.0450\n",
            "Epoch 154/200\n",
            "8/8 [==============================] - 0s 4ms/step - loss: 0.1055\n",
            "Epoch 155/200\n",
            "8/8 [==============================] - 0s 3ms/step - loss: 0.0915\n",
            "Epoch 156/200\n",
            "8/8 [==============================] - 0s 3ms/step - loss: 0.0495\n",
            "Epoch 157/200\n",
            "8/8 [==============================] - 0s 3ms/step - loss: 0.0774\n",
            "Epoch 158/200\n",
            "8/8 [==============================] - 0s 4ms/step - loss: 0.1255\n",
            "Epoch 159/200\n",
            "8/8 [==============================] - 0s 3ms/step - loss: 0.0735\n",
            "Epoch 160/200\n",
            "8/8 [==============================] - 0s 3ms/step - loss: 0.0876\n",
            "Epoch 161/200\n",
            "8/8 [==============================] - 0s 3ms/step - loss: 0.1698\n",
            "Epoch 162/200\n",
            "8/8 [==============================] - 0s 3ms/step - loss: 0.0935\n",
            "Epoch 163/200\n",
            "8/8 [==============================] - 0s 2ms/step - loss: 0.0608\n",
            "Epoch 164/200\n",
            "8/8 [==============================] - 0s 2ms/step - loss: 0.0715\n",
            "Epoch 165/200\n",
            "8/8 [==============================] - 0s 3ms/step - loss: 0.0559\n",
            "Epoch 166/200\n",
            "8/8 [==============================] - 0s 2ms/step - loss: 0.0872\n",
            "Epoch 167/200\n",
            "8/8 [==============================] - 0s 2ms/step - loss: 0.0444\n",
            "Epoch 168/200\n",
            "8/8 [==============================] - 0s 2ms/step - loss: 0.0959\n",
            "Epoch 169/200\n",
            "8/8 [==============================] - 0s 3ms/step - loss: 0.0964\n",
            "Epoch 170/200\n",
            "8/8 [==============================] - 0s 2ms/step - loss: 0.1129\n",
            "Epoch 171/200\n",
            "8/8 [==============================] - 0s 2ms/step - loss: 0.0748\n",
            "Epoch 172/200\n",
            "8/8 [==============================] - 0s 2ms/step - loss: 0.0578\n",
            "Epoch 173/200\n",
            "8/8 [==============================] - 0s 3ms/step - loss: 0.0870\n",
            "Epoch 174/200\n",
            "8/8 [==============================] - 0s 2ms/step - loss: 0.0892\n",
            "Epoch 175/200\n",
            "8/8 [==============================] - 0s 2ms/step - loss: 0.0758\n",
            "Epoch 176/200\n",
            "8/8 [==============================] - 0s 2ms/step - loss: 0.0589\n",
            "Epoch 177/200\n",
            "8/8 [==============================] - 0s 2ms/step - loss: 0.1061\n",
            "Epoch 178/200\n",
            "8/8 [==============================] - 0s 2ms/step - loss: 0.0948\n",
            "Epoch 179/200\n",
            "8/8 [==============================] - 0s 2ms/step - loss: 0.2162\n",
            "Epoch 180/200\n",
            "8/8 [==============================] - 0s 3ms/step - loss: 0.0741\n",
            "Epoch 181/200\n",
            "8/8 [==============================] - 0s 2ms/step - loss: 0.1394\n",
            "Epoch 182/200\n",
            "8/8 [==============================] - 0s 2ms/step - loss: 0.0936\n",
            "Epoch 183/200\n",
            "8/8 [==============================] - 0s 2ms/step - loss: 0.1597\n",
            "Epoch 184/200\n",
            "8/8 [==============================] - 0s 2ms/step - loss: 0.0443\n",
            "Epoch 185/200\n",
            "8/8 [==============================] - 0s 3ms/step - loss: 0.0512\n",
            "Epoch 186/200\n",
            "8/8 [==============================] - 0s 2ms/step - loss: 0.0654\n",
            "Epoch 187/200\n",
            "8/8 [==============================] - 0s 2ms/step - loss: 0.0857\n",
            "Epoch 188/200\n",
            "8/8 [==============================] - 0s 2ms/step - loss: 0.0944\n",
            "Epoch 189/200\n",
            "8/8 [==============================] - 0s 2ms/step - loss: 0.1218\n",
            "Epoch 190/200\n",
            "8/8 [==============================] - 0s 2ms/step - loss: 0.0884\n",
            "Epoch 191/200\n",
            "8/8 [==============================] - 0s 3ms/step - loss: 0.1204\n",
            "Epoch 192/200\n",
            "8/8 [==============================] - 0s 3ms/step - loss: 0.1021\n",
            "Epoch 193/200\n",
            "8/8 [==============================] - 0s 2ms/step - loss: 0.0626\n",
            "Epoch 194/200\n",
            "8/8 [==============================] - 0s 2ms/step - loss: 0.0809\n",
            "Epoch 195/200\n",
            "8/8 [==============================] - 0s 2ms/step - loss: 0.0895\n",
            "Epoch 196/200\n",
            "8/8 [==============================] - 0s 4ms/step - loss: 0.0731\n",
            "Epoch 197/200\n",
            "8/8 [==============================] - 0s 2ms/step - loss: 0.0760\n",
            "Epoch 198/200\n",
            "8/8 [==============================] - 0s 3ms/step - loss: 0.0646\n",
            "Epoch 199/200\n",
            "8/8 [==============================] - 0s 2ms/step - loss: 0.0736\n",
            "Epoch 200/200\n",
            "8/8 [==============================] - 0s 2ms/step - loss: 0.0706\n"
          ]
        },
        {
          "output_type": "stream",
          "name": "stderr",
          "text": [
            "/usr/local/lib/python3.10/dist-packages/keras/src/engine/training.py:3000: UserWarning: You are saving your model as an HDF5 file via `model.save()`. This file format is considered legacy. We recommend using instead the native Keras format, e.g. `model.save('my_model.keras')`.\n",
            "  saving_api.save_model(\n"
          ]
        }
      ],
      "source": [
        "his=model.fit(np.array(train_x),np.array(train_y),epochs=200,batch_size=5,verbose=1)\n",
        "model.save('chatbotmodel.h5',his)\n"
      ]
    },
    {
      "cell_type": "code",
      "execution_count": 16,
      "metadata": {
        "id": "xUB_e6BvQ_vu"
      },
      "outputs": [],
      "source": [
        "from tensorflow.keras.models import load_model\n",
        "lemmatizer=WordNetLemmatizer()\n",
        "\n",
        "with open('/content/sample_data/intents.json','r') as file:\n",
        "  intents=json.load(file)\n",
        "\n",
        "words=pickle.load(open('words.pkl','rb'))\n",
        "classes=pickle.load(open('classes.pkl','rb'))\n",
        "model=load_model('chatbotmodel.h5')\n"
      ]
    },
    {
      "cell_type": "code",
      "execution_count": 17,
      "metadata": {
        "id": "aPqUp7pESXDE"
      },
      "outputs": [],
      "source": [
        "#cleaning function\n",
        "def clean_up(sentence):\n",
        "  sentence_words=nltk.word_tokenize(sentence)\n",
        "  sentence_words=[lemmatizer.lemmatize(word)for word in sentence_words]\n",
        "  return sentence_words"
      ]
    },
    {
      "cell_type": "code",
      "execution_count": 18,
      "metadata": {
        "id": "dMbBnVKFS4kl"
      },
      "outputs": [],
      "source": [
        "#convert sentence to bag of words\n",
        "def bag_of_words(sentence):\n",
        "  sentence_words=clean_up(sentence)\n",
        "  bag=[0]*len(words)\n",
        "  for w in sentence_words:\n",
        "    for i ,word in enumerate(words):\n",
        "      if word==w:\n",
        "        bag[i]=1\n",
        "  return np.array(bag)\n",
        "\n"
      ]
    },
    {
      "cell_type": "code",
      "execution_count": 19,
      "metadata": {
        "id": "uczTv-LXT2Pd"
      },
      "outputs": [],
      "source": [
        "def predict_class(sentence):\n",
        "  x=bag_of_words(sentence)\n",
        "  res=model.predict(np.array([x]))[0]\n",
        "  EROR=0.25\n",
        "  result=[[i,r] for i,r in enumerate(res) if r>EROR]\n",
        "  result.sort(key=lambda x:x[1],reverse=True) #sort by probabilty\n",
        "  return_list=[]\n",
        "  for r in result:\n",
        "    return_list.append({'intent':classes[r[0]],'probabilty':str(r[1])})\n",
        "  return return_list"
      ]
    },
    {
      "cell_type": "code",
      "execution_count": 20,
      "metadata": {
        "id": "hqC4iuyWV1ip"
      },
      "outputs": [],
      "source": [
        "def get_response(intents_list,intents_json):\n",
        "  tag=intents_list[0]['intent']\n",
        "  list_of_intents=intents_json['intents']\n",
        "  for i in list_of_intents:\n",
        "    if i['tag']==tag:\n",
        "      result=random.choice(i['responses'])\n",
        "      break\n",
        "  return result"
      ]
    },
    {
      "cell_type": "code",
      "execution_count": null,
      "metadata": {
        "colab": {
          "base_uri": "https://localhost:8080/"
        },
        "id": "FpyK5n-uWlMx",
        "outputId": "cf53b8aa-5089-4758-dc16-3cf97f38434d"
      },
      "outputs": [
        {
          "output_type": "stream",
          "name": "stdout",
          "text": [
            "go,bot is ready\n",
            "hi\n",
            "1/1 [==============================] - 0s 30ms/step\n",
            "Hello!\n",
            "what is your name\n",
            "1/1 [==============================] - 0s 20ms/step\n",
            "You can call me ZI,I'm ZI,Iam ZI the assistant of Hala!\n",
            "how old are you\n",
            "1/1 [==============================] - 0s 21ms/step\n",
            "My owner Hala is 20 years old,20 years old!\n",
            "who is your creator\n",
            "1/1 [==============================] - 0s 20ms/step\n",
            "Hala created me!, a smart student designed me to strength her knowledge and skills in machine learning\n",
            "can you eat\n",
            "1/1 [==============================] - 0s 40ms/step\n",
            "I don't have a physical form or biological needs like sleeping, eating, or drinking,Iam an artificial intelligence program\n",
            "see you\n",
            "1/1 [==============================] - 0s 22ms/step\n",
            "Sad to see you go:(\n"
          ]
        }
      ],
      "source": [
        "print(\"go,bot is ready\")\n",
        "while True:\n",
        "  message=input(\"\")\n",
        "  ints=predict_class(message)\n",
        "  res=get_response(ints,intents)\n",
        "  print(res)"
      ]
    }
  ],
  "metadata": {
    "colab": {
      "provenance": []
    },
    "kernelspec": {
      "display_name": "Python 3",
      "name": "python3"
    },
    "language_info": {
      "name": "python"
    }
  },
  "nbformat": 4,
  "nbformat_minor": 0
}